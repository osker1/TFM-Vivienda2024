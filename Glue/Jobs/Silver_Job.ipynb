{
	"metadata": {
		"kernelspec": {
			"name": "glue_pyspark",
			"display_name": "Glue PySpark",
			"language": "python"
		},
		"language_info": {
			"name": "Python_Glue_Session",
			"mimetype": "text/x-python",
			"codemirror_mode": {
				"name": "python",
				"version": 3
			},
			"pygments_lexer": "python3",
			"file_extension": ".py"
		},
		"toc-autonumbering": false
	},
	"nbformat_minor": 4,
	"nbformat": 4,
	"cells": [
		{
			"cell_type": "markdown",
			"source": "# AWS Glue Studio Notebook\n##### You are now running a AWS Glue Studio notebook; To start using your notebook you need to start an AWS Glue Interactive Session.\n",
			"metadata": {
				"editable": true,
				"trusted": true
			}
		},
		{
			"cell_type": "markdown",
			"source": "#### Optional: Run this cell to see available notebook commands (\"magics\").\n",
			"metadata": {
				"editable": true,
				"trusted": true
			}
		},
		{
			"cell_type": "code",
			"source": "%help",
			"metadata": {
				"trusted": true,
				"editable": true
			},
			"execution_count": null,
			"outputs": []
		},
		{
			"cell_type": "code",
			"source": "%%configure\n{\n    \"--datalake-formats\":\"delta\",\n    \"--conf\":\"spark.sql.extensions=io.delta.sql.DeltaSparkSessionExtension --conf spark.sql.catalog.spark_catalog=org.apache.spark.sql.delta.catalog.DeltaCatalog --conf spark.delta.logStore.class=org.apache.spark.sql.delta.storage.S3SingleDriverLogStore\"\n}",
			"metadata": {
				"trusted": true,
				"tags": []
			},
			"execution_count": 2,
			"outputs": [
				{
					"name": "stdout",
					"text": "Welcome to the Glue Interactive Sessions Kernel\nFor more information on available magic commands, please type %help in any new cell.\n\nPlease view our Getting Started page to access the most up-to-date information on the Interactive Sessions kernel: https://docs.aws.amazon.com/glue/latest/dg/interactive-sessions.html\nInstalled kernel version: 1.0.5 \nThe following configurations have been updated: {'--datalake-formats': 'delta', '--conf': 'spark.sql.extensions=io.delta.sql.DeltaSparkSessionExtension --conf spark.sql.catalog.spark_catalog=org.apache.spark.sql.delta.catalog.DeltaCatalog --conf spark.delta.logStore.class=org.apache.spark.sql.delta.storage.S3SingleDriverLogStore'}\n",
					"output_type": "stream"
				}
			]
		},
		{
			"cell_type": "markdown",
			"source": "####  Run this cell to set up and start your interactive session.\n",
			"metadata": {
				"editable": true,
				"trusted": true
			}
		},
		{
			"cell_type": "code",
			"source": "%idle_timeout 2880\n%glue_version 4.0\n%worker_type G.1X\n%number_of_workers 5\nimport sys\nfrom awsglue.transforms import *\nfrom awsglue.utils import getResolvedOptions\nfrom pyspark.context import SparkContext\nfrom awsglue.context import GlueContext\nfrom awsglue.job import Job\nfrom pyspark.sql import functions as F\n  \nsc = SparkContext.getOrCreate()\nglueContext = GlueContext(sc)\nspark = glueContext.spark_session\njob = Job(glueContext)\nbucket_name=\"s3://bucket-for-requests/data/api_database/bronze/\"",
			"metadata": {
				"trusted": true,
				"editable": true
			},
			"execution_count": 1,
			"outputs": [
				{
					"name": "stdout",
					"text": "Current idle_timeout is None minutes.\nidle_timeout has been set to 2880 minutes.\nSetting Glue version to: 4.0\nPrevious worker type: None\nSetting new worker type to: G.1X\nPrevious number of workers: None\nSetting new number of workers to: 5\nTrying to create a Glue session for the kernel.\nSession Type: glueetl\nWorker Type: G.1X\nNumber of Workers: 5\nIdle Timeout: 2880\nSession ID: 079d17ef-5cc9-4528-a27b-de0ed36e263e\nApplying the following default arguments:\n--glue_kernel_version 1.0.5\n--enable-glue-datacatalog true\n--datalake-formats delta\n--conf spark.sql.extensions=io.delta.sql.DeltaSparkSessionExtension --conf spark.sql.catalog.spark_catalog=org.apache.spark.sql.delta.catalog.DeltaCatalog --conf spark.delta.logStore.class=org.apache.spark.sql.delta.storage.S3SingleDriverLogStore\nWaiting for session 079d17ef-5cc9-4528-a27b-de0ed36e263e to get into ready status...\nSession 079d17ef-5cc9-4528-a27b-de0ed36e263e has been created.\n\n",
					"output_type": "stream"
				}
			]
		},
		{
			"cell_type": "code",
			"source": "df = spark.read.parquet(bucket_name) # En este caso, usamos la ruta al bucket pues spark ha generado 3 particiones de datos.\ndf.printSchema()",
			"metadata": {
				"trusted": true,
				"tags": []
			},
			"execution_count": 2,
			"outputs": [
				{
					"name": "stdout",
					"text": "root\n |-- address: string (nullable = true)\n |-- bathrooms: long (nullable = true)\n |-- country: string (nullable = true)\n |-- description: string (nullable = true)\n |-- subTypology: string (nullable = true)\n |-- typology: string (nullable = true)\n |-- distance: string (nullable = true)\n |-- district: string (nullable = true)\n |-- exterior: boolean (nullable = true)\n |-- externalReference: string (nullable = true)\n |-- floor: string (nullable = true)\n |-- has360: boolean (nullable = true)\n |-- has3DTour: boolean (nullable = true)\n |-- hasLift: boolean (nullable = true)\n |-- hasPlan: boolean (nullable = true)\n |-- hasStaging: boolean (nullable = true)\n |-- hasVideo: boolean (nullable = true)\n |-- groupDescription: string (nullable = true)\n |-- latitude: double (nullable = true)\n |-- longitude: double (nullable = true)\n |-- municipality: string (nullable = true)\n |-- neighborhood: string (nullable = true)\n |-- newDevelopment: boolean (nullable = true)\n |-- newDevelopmentFinished: boolean (nullable = true)\n |-- numPhotos: long (nullable = true)\n |-- operation: string (nullable = true)\n |-- hasParkingSpace: boolean (nullable = true)\n |-- isParkingSpaceIncludedInPrice: boolean (nullable = true)\n |-- parkingSpacePrice: double (nullable = true)\n |-- price: double (nullable = true)\n |-- priceByArea: double (nullable = true)\n |-- amount: double (nullable = true)\n |-- currencySuffix: string (nullable = true)\n |-- formerPrice: double (nullable = true)\n |-- priceDropPercentage: long (nullable = true)\n |-- priceDropValue: long (nullable = true)\n |-- propertyCode: string (nullable = true)\n |-- propertyType: string (nullable = true)\n |-- province: string (nullable = true)\n |-- rooms: long (nullable = true)\n |-- showAddress: boolean (nullable = true)\n |-- size: double (nullable = true)\n |-- status: string (nullable = true)\n |-- subtitle: string (nullable = true)\n |-- title: string (nullable = true)\n |-- thumbnail: string (nullable = true)\n |-- topNewDevelopment: boolean (nullable = true)\n |-- topPlus: boolean (nullable = true)\n |-- url: string (nullable = true)\n",
					"output_type": "stream"
				}
			]
		},
		{
			"cell_type": "code",
			"source": "df.show(1, vertical=True)",
			"metadata": {
				"trusted": true,
				"tags": []
			},
			"execution_count": 3,
			"outputs": [
				{
					"name": "stdout",
					"text": "-RECORD 0---------------------------------------------\n address                       | vereda de Palacio, 4 \n bathrooms                     | 2                    \n country                       | es                   \n description                   | Venta. Piso. El E... \n subTypology                   | null                 \n typology                      | flat                 \n distance                      | 13765                \n district                      | Encinar de los Reyes \n exterior                      | true                 \n externalReference             | V2807I               \n floor                         | 1                    \n has360                        | false                \n has3DTour                     | true                 \n hasLift                       | true                 \n hasPlan                       | true                 \n hasStaging                    | true                 \n hasVideo                      | true                 \n groupDescription              | Top+                 \n latitude                      | 40.5085005           \n longitude                     | -3.6441727           \n municipality                  | La Moraleja          \n neighborhood                  | null                 \n newDevelopment                | false                \n newDevelopmentFinished        | null                 \n numPhotos                     | 48                   \n operation                     | sale                 \n hasParkingSpace               | true                 \n isParkingSpaceIncludedInPrice | true                 \n parkingSpacePrice             | null                 \n price                         | 625000.0             \n priceByArea                   | 6443.0               \n amount                        | 625000.0             \n currencySuffix                | €                    \n formerPrice                   | 650000.0             \n priceDropPercentage           | 4                    \n priceDropValue                | 25000                \n propertyCode                  | 105083301            \n propertyType                  | flat                 \n province                      | Madrid               \n rooms                         | 2                    \n showAddress                   | true                 \n size                          | 97.0                 \n status                        | good                 \n subtitle                      | Encinar de los Re... \n title                         | Piso en vereda de... \n thumbnail                     | https://img4.idea... \n topNewDevelopment             | false                \n topPlus                       | true                 \n url                           | https://www.ideal... \nonly showing top 1 row\n",
					"output_type": "stream"
				}
			]
		},
		{
			"cell_type": "markdown",
			"source": "# Pasamos a limpiar el dataset",
			"metadata": {}
		},
		{
			"cell_type": "code",
			"source": "rows=df.count()\nprint(f\"El dataframe contiene {rows} filas\") # Realizamos el conteo para chequear que se ha cargado correctamente y para tener la referencia para futuras operaciones",
			"metadata": {
				"trusted": true,
				"tags": []
			},
			"execution_count": 4,
			"outputs": [
				{
					"name": "stdout",
					"text": "El dataframe contiene 7450 filas\n",
					"output_type": "stream"
				}
			]
		},
		{
			"cell_type": "markdown",
			"source": "### Primeramente vamos a droppear todas las columnas que contengan información irrelevante para el análisis.",
			"metadata": {}
		},
		{
			"cell_type": "code",
			"source": "columns_to_drop=[\"description\", \"distance\", \"has360\", \"has3dtour\", \"hasplan\", \"hasstaging\", \"hasvideo\", \"groupdescription\" ,\"latitude\", \"longitude\", \"numphotos\",\"operation\", \"showaddress\", \"subtitle\",\"thumbnail\", \"topnewdevelopment\",\"topplus\", \"url\", \"title\", \"currencySuffix\", \"externalReference\"]\ndf_dropped=df.drop(*columns_to_drop)\ndf_dropped.cache()\ndf_dropped.printSchema()",
			"metadata": {
				"trusted": true,
				"tags": []
			},
			"execution_count": 5,
			"outputs": [
				{
					"name": "stdout",
					"text": "root\n |-- address: string (nullable = true)\n |-- bathrooms: long (nullable = true)\n |-- country: string (nullable = true)\n |-- subTypology: string (nullable = true)\n |-- typology: string (nullable = true)\n |-- district: string (nullable = true)\n |-- exterior: boolean (nullable = true)\n |-- floor: string (nullable = true)\n |-- hasLift: boolean (nullable = true)\n |-- municipality: string (nullable = true)\n |-- neighborhood: string (nullable = true)\n |-- newDevelopment: boolean (nullable = true)\n |-- newDevelopmentFinished: boolean (nullable = true)\n |-- hasParkingSpace: boolean (nullable = true)\n |-- isParkingSpaceIncludedInPrice: boolean (nullable = true)\n |-- parkingSpacePrice: double (nullable = true)\n |-- price: double (nullable = true)\n |-- priceByArea: double (nullable = true)\n |-- amount: double (nullable = true)\n |-- formerPrice: double (nullable = true)\n |-- priceDropPercentage: long (nullable = true)\n |-- priceDropValue: long (nullable = true)\n |-- propertyCode: string (nullable = true)\n |-- propertyType: string (nullable = true)\n |-- province: string (nullable = true)\n |-- rooms: long (nullable = true)\n |-- size: double (nullable = true)\n |-- status: string (nullable = true)\n",
					"output_type": "stream"
				}
			]
		},
		{
			"cell_type": "markdown",
			"source": "## Refactorizamos el nombre de algunas columnas para mejorar la explicabilidad de las mismas y para que columnas como \"size\" no interfieran en el uso de métodos de spark.",
			"metadata": {}
		},
		{
			"cell_type": "code",
			"source": "# Ahora vamos a renombrar algunas columnas para que los nombres transmitan más información.\ndf_dropped=df_dropped.withColumnRenamed(\"size\", \"size_m2\")\ndf_dropped=df_dropped.withColumnRenamed(\"rooms\", \"rooms_count\")\ndf_dropped=df_dropped.withColumnRenamed(\"priceByArea\", \"price_per_m2\")\ndf_dropped=df_dropped.withColumnRenamed(\"bathrooms\", \"bathrooms_count\")",
			"metadata": {
				"trusted": true,
				"tags": []
			},
			"execution_count": 6,
			"outputs": [
				{
					"name": "stdout",
					"text": "\n",
					"output_type": "stream"
				}
			]
		},
		{
			"cell_type": "code",
			"source": "df_dropped.printSchema()",
			"metadata": {
				"trusted": true,
				"tags": []
			},
			"execution_count": 7,
			"outputs": [
				{
					"name": "stdout",
					"text": "root\n |-- address: string (nullable = true)\n |-- bathrooms_count: long (nullable = true)\n |-- country: string (nullable = true)\n |-- subTypology: string (nullable = true)\n |-- typology: string (nullable = true)\n |-- district: string (nullable = true)\n |-- exterior: boolean (nullable = true)\n |-- floor: string (nullable = true)\n |-- hasLift: boolean (nullable = true)\n |-- municipality: string (nullable = true)\n |-- neighborhood: string (nullable = true)\n |-- newDevelopment: boolean (nullable = true)\n |-- newDevelopmentFinished: boolean (nullable = true)\n |-- hasParkingSpace: boolean (nullable = true)\n |-- isParkingSpaceIncludedInPrice: boolean (nullable = true)\n |-- parkingSpacePrice: double (nullable = true)\n |-- price: double (nullable = true)\n |-- price_per_m2: double (nullable = true)\n |-- amount: double (nullable = true)\n |-- formerPrice: double (nullable = true)\n |-- priceDropPercentage: long (nullable = true)\n |-- priceDropValue: long (nullable = true)\n |-- propertyCode: string (nullable = true)\n |-- propertyType: string (nullable = true)\n |-- province: string (nullable = true)\n |-- rooms_count: long (nullable = true)\n |-- size_m2: double (nullable = true)\n |-- status: string (nullable = true)\n",
					"output_type": "stream"
				}
			]
		},
		{
			"cell_type": "markdown",
			"source": "# Tratamiento de nulos/valores perdidos",
			"metadata": {}
		},
		{
			"cell_type": "code",
			"source": "cols=df_dropped.columns\nhigh_nulls_columns=[]\nfor col in cols:\n    nulls=df_dropped.filter(df_dropped[col].isNull()).count()\n    percentage=nulls/rows*100\n    print(f\"La columna {col} tiene: {nulls} valores nulos. Lo cual representa el {percentage:.2f}% del dataset\")\n    if percentage > 30:\n        high_nulls_columns.append(col)\n    else:\n        continue\n\nprint(f\"\\nLas siguientes columnas contienen más de un 30% de valores nulos: {high_nulls_columns}\")",
			"metadata": {
				"trusted": true,
				"tags": []
			},
			"execution_count": 18,
			"outputs": [
				{
					"name": "stdout",
					"text": "La columna address tiene: 0 valores nulos. Lo cual representa el 0.00% del dataset\nLa columna bathrooms_count tiene: 0 valores nulos. Lo cual representa el 0.00% del dataset\nLa columna country tiene: 0 valores nulos. Lo cual representa el 0.00% del dataset\nLa columna subTypology tiene: 5273 valores nulos. Lo cual representa el 70.78% del dataset\nLa columna typology tiene: 0 valores nulos. Lo cual representa el 0.00% del dataset\nLa columna district tiene: 87 valores nulos. Lo cual representa el 1.17% del dataset\nLa columna exterior tiene: 1390 valores nulos. Lo cual representa el 18.66% del dataset\nLa columna floor tiene: 1604 valores nulos. Lo cual representa el 21.53% del dataset\nLa columna hasLift tiene: 1310 valores nulos. Lo cual representa el 17.58% del dataset\nLa columna municipality tiene: 0 valores nulos. Lo cual representa el 0.00% del dataset\nLa columna neighborhood tiene: 1408 valores nulos. Lo cual representa el 18.90% del dataset\nLa columna newDevelopment tiene: 0 valores nulos. Lo cual representa el 0.00% del dataset\nLa columna newDevelopmentFinished tiene: 6335 valores nulos. Lo cual representa el 85.03% del dataset\nLa columna hasParkingSpace tiene: 4046 valores nulos. Lo cual representa el 54.31% del dataset\nLa columna isParkingSpaceIncludedInPrice tiene: 4046 valores nulos. Lo cual representa el 54.31% del dataset\nLa columna parkingSpacePrice tiene: 7245 valores nulos. Lo cual representa el 97.25% del dataset\nLa columna price tiene: 0 valores nulos. Lo cual representa el 0.00% del dataset\nLa columna price_per_m2 tiene: 0 valores nulos. Lo cual representa el 0.00% del dataset\nLa columna amount tiene: 0 valores nulos. Lo cual representa el 0.00% del dataset\nLa columna formerPrice tiene: 6740 valores nulos. Lo cual representa el 90.47% del dataset\nLa columna priceDropPercentage tiene: 6740 valores nulos. Lo cual representa el 90.47% del dataset\nLa columna priceDropValue tiene: 6740 valores nulos. Lo cual representa el 90.47% del dataset\nLa columna propertyCode tiene: 0 valores nulos. Lo cual representa el 0.00% del dataset\nLa columna propertyType tiene: 0 valores nulos. Lo cual representa el 0.00% del dataset\nLa columna province tiene: 0 valores nulos. Lo cual representa el 0.00% del dataset\nLa columna rooms_count tiene: 0 valores nulos. Lo cual representa el 0.00% del dataset\nLa columna size_m2 tiene: 0 valores nulos. Lo cual representa el 0.00% del dataset\nLa columna status tiene: 67 valores nulos. Lo cual representa el 0.90% del dataset\n\nLas siguientes columnas contienen más de un 30% de valores nulos: ['subTypology', 'newDevelopmentFinished', 'hasParkingSpace', 'isParkingSpaceIncludedInPrice', 'parkingSpacePrice', 'formerPrice', 'priceDropPercentage', 'priceDropValue']\n",
					"output_type": "stream"
				}
			]
		},
		{
			"cell_type": "markdown",
			"source": "De las anteriores columnas, las que podrían aportarle información explicativa o ayudar a las predicciones son hasParkingSpace y parkingSpacePrice. Sin embargo, debido a que tienen gran cantidad de valores perdidos, es preferible excluirlos del estudio.",
			"metadata": {}
		},
		{
			"cell_type": "markdown",
			"source": "### Simplemente descartamos del estudio todas aquellas columnas con más de un 30% de valores nulos.",
			"metadata": {}
		},
		{
			"cell_type": "code",
			"source": "df_without_nulls=df_dropped.drop(*high_nulls_columns)\ndf_without_nulls.printSchema()",
			"metadata": {
				"trusted": true,
				"tags": []
			},
			"execution_count": 19,
			"outputs": [
				{
					"name": "stdout",
					"text": "root\n |-- address: string (nullable = true)\n |-- bathrooms_count: long (nullable = true)\n |-- country: string (nullable = true)\n |-- typology: string (nullable = true)\n |-- district: string (nullable = true)\n |-- exterior: boolean (nullable = true)\n |-- floor: string (nullable = true)\n |-- hasLift: boolean (nullable = true)\n |-- municipality: string (nullable = true)\n |-- neighborhood: string (nullable = true)\n |-- newDevelopment: boolean (nullable = true)\n |-- price: double (nullable = true)\n |-- price_per_m2: double (nullable = true)\n |-- amount: double (nullable = true)\n |-- propertyCode: string (nullable = true)\n |-- propertyType: string (nullable = true)\n |-- province: string (nullable = true)\n |-- rooms_count: long (nullable = true)\n |-- size_m2: double (nullable = true)\n |-- status: string (nullable = true)\n",
					"output_type": "stream"
				}
			]
		},
		{
			"cell_type": "code",
			"source": "df_without_nulls.show(3)",
			"metadata": {
				"trusted": true,
				"tags": []
			},
			"execution_count": 20,
			"outputs": [
				{
					"name": "stdout",
					"text": "+--------------------+---------------+-------+--------+--------------------+--------+-----+-------+------------+------------+--------------+---------+------------+---------+------------+------------+--------+-----------+-------+------+\n|             address|bathrooms_count|country|typology|            district|exterior|floor|hasLift|municipality|neighborhood|newDevelopment|    price|price_per_m2|   amount|propertyCode|propertyType|province|rooms_count|size_m2|status|\n+--------------------+---------------+-------+--------+--------------------+--------+-----+-------+------------+------------+--------------+---------+------------+---------+------------+------------+--------+-----------+-------+------+\n|vereda de Palacio, 4|              2|     es|    flat|Encinar de los Reyes|    true|    1|   true| La Moraleja|        null|         false| 625000.0|      6443.0| 625000.0|   105083301|        flat|  Madrid|          2|   97.0|  good|\n|calle de Darío Ap...|              5|     es|  chalet|             Moncloa|    null| null|   null|      Madrid|  Valdemarín|         false|1990000.0|      5251.0|1990000.0|   105055614|      chalet|  Madrid|          6|  379.0|  good|\n|calle del Duque d...|              3|     es|    flat| Barrio de Salamanca|    true|    1|   true|      Madrid|        Goya|         false|1350000.0|     10150.0|1350000.0|   104952998|        flat|  Madrid|          2|  133.0|  good|\n+--------------------+---------------+-------+--------+--------------------+--------+-----+-------+------------+------------+--------------+---------+------------+---------+------------+------------+--------+-----------+-------+------+\nonly showing top 3 rows\n",
					"output_type": "stream"
				}
			]
		},
		{
			"cell_type": "markdown",
			"source": "Observando el resultado enfoco mi atención en la variable amount. \n\nPrice y amount dan básicamente la misma información, el precio del inmueble. ",
			"metadata": {}
		},
		{
			"cell_type": "code",
			"source": "df_without_nulls=df_without_nulls.drop(\"amount\") # La descartamos del dataframe.\ndf_without_nulls.printSchema()",
			"metadata": {
				"trusted": true,
				"tags": []
			},
			"execution_count": 21,
			"outputs": [
				{
					"name": "stdout",
					"text": "root\n |-- address: string (nullable = true)\n |-- bathrooms_count: long (nullable = true)\n |-- country: string (nullable = true)\n |-- typology: string (nullable = true)\n |-- district: string (nullable = true)\n |-- exterior: boolean (nullable = true)\n |-- floor: string (nullable = true)\n |-- hasLift: boolean (nullable = true)\n |-- municipality: string (nullable = true)\n |-- neighborhood: string (nullable = true)\n |-- newDevelopment: boolean (nullable = true)\n |-- price: double (nullable = true)\n |-- price_per_m2: double (nullable = true)\n |-- propertyCode: string (nullable = true)\n |-- propertyType: string (nullable = true)\n |-- province: string (nullable = true)\n |-- rooms_count: long (nullable = true)\n |-- size_m2: double (nullable = true)\n |-- status: string (nullable = true)\n",
					"output_type": "stream"
				}
			]
		},
		{
			"cell_type": "markdown",
			"source": "En este punto quiero chequear valores perdidos de la variable floor pero solamente de las viviendas tipo piso.\n\nDecidimos si imputar en caso de que la incidencia no sea muy grande (si es que existen nulos).",
			"metadata": {}
		},
		{
			"cell_type": "code",
			"source": "filtered_df=df_without_nulls.filter((F.col(\"typology\") == \"flat\") & (F.col(\"floor\").isNull())).select(\"typology\", \"floor\")\nfiltered_df.show() # Existen nulos en la variable floor para las viviendas de tipo piso.",
			"metadata": {
				"trusted": true,
				"tags": []
			},
			"execution_count": 22,
			"outputs": [
				{
					"name": "stdout",
					"text": "+--------+-----+\n|typology|floor|\n+--------+-----+\n|    flat| null|\n|    flat| null|\n|    flat| null|\n|    flat| null|\n|    flat| null|\n|    flat| null|\n|    flat| null|\n|    flat| null|\n|    flat| null|\n|    flat| null|\n|    flat| null|\n|    flat| null|\n|    flat| null|\n|    flat| null|\n|    flat| null|\n|    flat| null|\n|    flat| null|\n|    flat| null|\n|    flat| null|\n|    flat| null|\n+--------+-----+\nonly showing top 20 rows\n",
					"output_type": "stream"
				}
			]
		},
		{
			"cell_type": "code",
			"source": "df_flats=df_without_nulls.where(F.col(\"propertyType\")==\"flat\").cache()",
			"metadata": {
				"trusted": true,
				"tags": []
			},
			"execution_count": 23,
			"outputs": [
				{
					"name": "stdout",
					"text": "\n",
					"output_type": "stream"
				}
			]
		},
		{
			"cell_type": "code",
			"source": "floor_nulls=df_flats.filter(df_flats[\"floor\"].isNull()).count()\nprint(f\"Existen {floor_nulls} pisos que no sabemos la planta en la que se sitúan, lo que se corresponde al {floor_nulls/rows*100:.2f}% del dataset\")",
			"metadata": {
				"trusted": true,
				"tags": []
			},
			"execution_count": 24,
			"outputs": [
				{
					"name": "stdout",
					"text": "Existen 230 pisos que no sabemos la planta en la que se sitúan, lo que se corresponde al 3.09% del dataset\n",
					"output_type": "stream"
				}
			]
		},
		{
			"cell_type": "code",
			"source": "df_flats.describe().show() # Mostramos los estadísticos de las variables, enfocándonos en floor sobre todo.",
			"metadata": {
				"trusted": true,
				"tags": []
			},
			"execution_count": 25,
			"outputs": [
				{
					"name": "stdout",
					"text": "+-------+--------+------------------+-------+--------+----------+------------------+--------------------+--------------------+-----------------+-----------------+--------------------+------------+--------+------------------+-----------------+------+\n|summary| address|   bathrooms_count|country|typology|  district|             floor|        municipality|        neighborhood|            price|     price_per_m2|        propertyCode|propertyType|province|       rooms_count|          size_m2|status|\n+-------+--------+------------------+-------+--------+----------+------------------+--------------------+--------------------+-----------------+-----------------+--------------------+------------+--------+------------------+-----------------+------+\n|  count|    5233|              5233|   5233|    5233|      5174|              5003|                5233|                4568|             5233|             5233|                5233|        5233|    5233|              5233|             5233|  5196|\n|   mean|    null|2.0177718326008027|   null|    null|      null|2.9867245957035964|                null|                null|791348.9044525129|5814.977450793044|1.0435677780508313E8|        null|    null| 2.745461494362698|124.6111599464934|  null|\n| stddev|    null|1.1271723182072673|   null|    null|      null|2.2990072938385944|                null|                null|829140.4296050494|3027.074210183204|   4325836.554888641|        null|    null|1.2209119134168631|79.30738874197614|  null|\n|    min|    ARPO|                 0|     es|    flat|      ARPO|                -1|          Alcobendas|12 de Octubre-Orc...|          54000.0|            566.0|           100082444|        flat|  Madrid|                 1|             20.0|  good|\n|    max|zapatera|                25|     es|    flat|Zona norte|                st|Villaviciosa de Odón|             Águilas|            1.1E7|          25670.0|            99959485|        flat|  Madrid|                17|            780.0| renew|\n+-------+--------+------------------+-------+--------+----------+------------------+--------------------+--------------------+-----------------+-----------------+--------------------+------------+--------+------------------+-----------------+------+\n",
					"output_type": "stream"
				}
			]
		},
		{
			"cell_type": "code",
			"source": "df_clean=df_without_nulls.withColumn(\n    \"floor\",\n    F.when((F.col(\"propertyType\") == \"flat\") & F.col(\"floor\").isNull(), 3) # Rellenamos los valores nulos con la media anteriormente vista.\n    .otherwise(F.col(\"floor\")) \n    )",
			"metadata": {
				"trusted": true,
				"tags": []
			},
			"execution_count": 26,
			"outputs": [
				{
					"name": "stdout",
					"text": "\n",
					"output_type": "stream"
				}
			]
		},
		{
			"cell_type": "code",
			"source": "df_clean.filter((F.col(\"floor\").isNull()) & (F.col(\"propertyType\") == \"flat\")).count() # Comprobamos que no hay más nulos",
			"metadata": {
				"trusted": true,
				"tags": []
			},
			"execution_count": 27,
			"outputs": [
				{
					"name": "stdout",
					"text": "0\n",
					"output_type": "stream"
				}
			]
		},
		{
			"cell_type": "markdown",
			"source": "# Pasamos ahora al estudio y tratamiento de duplicados.",
			"metadata": {}
		},
		{
			"cell_type": "code",
			"source": "df_no_duplicates=df_clean.dropDuplicates([\"propertyCode\"]) # Descartamos por propertyCode pues es el valor identificativo de cada vivienda puesta a la venta.",
			"metadata": {
				"trusted": true,
				"tags": []
			},
			"execution_count": 28,
			"outputs": [
				{
					"name": "stdout",
					"text": "\n",
					"output_type": "stream"
				}
			]
		},
		{
			"cell_type": "code",
			"source": "no_duplicates_rows=df_no_duplicates.count()\npercentage=no_duplicates_rows/rows*100\nprint(f\"El dataframe sin duplicados contiene {no_duplicates_rows} filas\")\nprint(f\"El dataframe contiene un {100-percentage:.2f}% de datos duplicados\") # Calculamos el porcentaje de filas sin duplicados.",
			"metadata": {
				"trusted": true,
				"tags": []
			},
			"execution_count": 29,
			"outputs": [
				{
					"name": "stdout",
					"text": "El dataframe contiene 6483 filas\nEl dataframe contiene un 12.98% de datos duplicados\n",
					"output_type": "stream"
				}
			]
		},
		{
			"cell_type": "markdown",
			"source": "### Siendo un 12.98% de datos duplicados, vamos a quitarlos del dataset y continuar.",
			"metadata": {}
		},
		{
			"cell_type": "markdown",
			"source": "# Pasamos a guardar el archivo en formato delta y generamos una tabla en la base de datos mediante crawler.",
			"metadata": {}
		},
		{
			"cell_type": "code",
			"source": "silver_path=\"s3://bucket-for-requests/data/api_database/silver_folder\"\ndf_no_duplicates.write\\\n        .format(\"delta\")\\\n        .mode(\"overwrite\")\\\n        .save(silver_path)",
			"metadata": {
				"trusted": true,
				"tags": []
			},
			"execution_count": 21,
			"outputs": [
				{
					"name": "stdout",
					"text": "\n",
					"output_type": "stream"
				}
			]
		},
		{
			"cell_type": "code",
			"source": "job.commit()",
			"metadata": {},
			"execution_count": null,
			"outputs": []
		}
	]
}
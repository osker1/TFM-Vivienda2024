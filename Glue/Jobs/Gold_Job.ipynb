{
	"metadata": {
		"kernelspec": {
			"name": "glue_pyspark",
			"display_name": "Glue PySpark",
			"language": "python"
		},
		"language_info": {
			"name": "Python_Glue_Session",
			"mimetype": "text/x-python",
			"codemirror_mode": {
				"name": "python",
				"version": 3
			},
			"pygments_lexer": "python3",
			"file_extension": ".py"
		}
	},
	"nbformat_minor": 4,
	"nbformat": 4,
	"cells": [
		{
			"cell_type": "markdown",
			"source": "# AWS Glue Studio Notebook\n##### You are now running a AWS Glue Studio notebook; To start using your notebook you need to start an AWS Glue Interactive Session.\n",
			"metadata": {
				"editable": true,
				"trusted": true
			}
		},
		{
			"cell_type": "code",
			"source": "#### Optional: Run this cell to see available notebook commands (\"magics\").\n%help",
			"metadata": {
				"trusted": true,
				"editable": true
			},
			"execution_count": 2,
			"outputs": [
				{
					"name": "stdout",
					"text": "Welcome to the Glue Interactive Sessions Kernel\nFor more information on available magic commands, please type %help in any new cell.\n\nPlease view our Getting Started page to access the most up-to-date information on the Interactive Sessions kernel: https://docs.aws.amazon.com/glue/latest/dg/interactive-sessions.html\nInstalled kernel version: 1.0.5 \n",
					"output_type": "stream"
				},
				{
					"output_type": "display_data",
					"data": {
						"text/markdown": "\n# Available Magic Commands\n\n## Sessions Magic\n\n----\n    %help                             Return a list of descriptions and input types for all magic commands. \n    %profile            String        Specify a profile in your aws configuration to use as the credentials provider.\n    %region             String        Specify the AWS region in which to initialize a session. \n                                      Default from ~/.aws/config on Linux or macOS, \n                                      or C:\\Users\\ USERNAME \\.aws\\config\" on Windows.\n    %idle_timeout       Int           The number of minutes of inactivity after which a session will timeout. \n                                      Default: 2880 minutes (48 hours).\n    %timeout            Int           The number of minutes after which a session will timeout. \n                                      Default: 2880 minutes (48 hours).\n    %session_id_prefix  String        Define a String that will precede all session IDs in the format \n                                      [session_id_prefix]-[session_id]. If a session ID is not provided,\n                                      a random UUID will be generated.\n    %status                           Returns the status of the current Glue session including its duration, \n                                      configuration and executing user / role.\n    %session_id                       Returns the session ID for the running session.\n    %list_sessions                    Lists all currently running sessions by ID.\n    %stop_session                     Stops the current session.\n    %glue_version       String        The version of Glue to be used by this session. \n                                      Currently, the only valid options are 2.0, 3.0 and 4.0. \n                                      Default: 2.0.\n    %reconnect          String        Specify a live session ID to switch/reconnect to the sessions.\n----\n\n## Selecting Session Types\n\n----\n    %streaming          String        Sets the session type to Glue Streaming.\n    %etl                String        Sets the session type to Glue ETL.\n    %glue_ray           String        Sets the session type to Glue Ray.\n    %session_type       String        Specify a session_type to be used. Supported values: streaming, etl and glue_ray. \n----\n\n## Glue Config Magic \n*(common across all session types)*\n\n----\n\n    %%configure         Dictionary    A json-formatted dictionary consisting of all configuration parameters for \n                                      a session. Each parameter can be specified here or through individual magics.\n    %iam_role           String        Specify an IAM role ARN to execute your session with.\n                                      Default from ~/.aws/config on Linux or macOS, \n                                      or C:\\Users\\%USERNAME%\\.aws\\config` on Windows.\n    %number_of_workers  int           The number of workers of a defined worker_type that are allocated \n                                      when a session runs.\n                                      Default: 5.\n    %additional_python_modules  List  Comma separated list of additional Python modules to include in your cluster \n                                      (can be from Pypi or S3).\n    %%tags        Dictionary          Specify a json-formatted dictionary consisting of tags to use in the session.\n    \n    %%assume_role Dictionary, String  Specify a json-formatted dictionary or an IAM role ARN string to create a session \n                                      for cross account access.\n                                      E.g. {valid arn}\n                                      %%assume_role \n                                      'arn:aws:iam::XXXXXXXXXXXX:role/AWSGlueServiceRole' \n                                      E.g. {credentials}\n                                      %%assume_role\n                                      {\n                                            \"aws_access_key_id\" : \"XXXXXXXXXXXX\",\n                                            \"aws_secret_access_key\" : \"XXXXXXXXXXXX\",\n                                            \"aws_session_token\" : \"XXXXXXXXXXXX\"\n                                       }\n----\n\n                                      \n## Magic for Spark Sessions (ETL & Streaming)\n\n----\n    %worker_type        String        Set the type of instances the session will use as workers. \n    %connections        List          Specify a comma separated list of connections to use in the session.\n    %extra_py_files     List          Comma separated list of additional Python files From S3.\n    %extra_jars         List          Comma separated list of additional Jars to include in the cluster.\n    %spark_conf         String        Specify custom spark configurations for your session. \n                                      E.g. %spark_conf spark.serializer=org.apache.spark.serializer.KryoSerializer\n----\n                                      \n## Magic for Ray Session\n\n----\n    %min_workers        Int           The minimum number of workers that are allocated to a Ray session. \n                                      Default: 1.\n    %object_memory_head Int           The percentage of free memory on the instance head node after a warm start. \n                                      Minimum: 0. Maximum: 100.\n    %object_memory_worker Int         The percentage of free memory on the instance worker nodes after a warm start. \n                                      Minimum: 0. Maximum: 100.\n----\n\n## Action Magic\n\n----\n\n    %%sql               String        Run SQL code. All lines after the initial %%sql magic will be passed\n                                      as part of the SQL code.  \n    %matplot      Matplotlib figure   Visualize your data using the matplotlib library.\n                                      E.g. \n                                      import matplotlib.pyplot as plt\n                                      # Set X-axis and Y-axis values\n                                      x = [5, 2, 8, 4, 9]\n                                      y = [10, 4, 8, 5, 2]\n                                      # Create a bar chart \n                                      plt.bar(x, y) \n                                      # Show the plot\n                                      %matplot plt    \n    %plotly            Plotly figure  Visualize your data using the plotly library.\n                                      E.g.\n                                      import plotly.express as px\n                                      #Create a graphical figure\n                                      fig = px.line(x=[\"a\",\"b\",\"c\"], y=[1,3,2], title=\"sample figure\")\n                                      #Show the figure\n                                      %plotly fig\n\n  \n                \n----\n\n"
					},
					"metadata": {}
				}
			]
		},
		{
			"cell_type": "code",
			"source": "%%configure\n{\n    \"--datalake-formats\":\"delta\",\n    \"--conf\":\"spark.sql.extensions=io.delta.sql.DeltaSparkSessionExtension --conf spark.sql.catalog.spark_catalog=org.apache.spark.sql.delta.catalog.DeltaCatalog --conf spark.delta.logStore.class=org.apache.spark.sql.delta.storage.S3SingleDriverLogStore\"\n}",
			"metadata": {
				"trusted": true,
				"tags": []
			},
			"execution_count": 2,
			"outputs": [
				{
					"name": "stdout",
					"text": "Welcome to the Glue Interactive Sessions Kernel\nFor more information on available magic commands, please type %help in any new cell.\n\nPlease view our Getting Started page to access the most up-to-date information on the Interactive Sessions kernel: https://docs.aws.amazon.com/glue/latest/dg/interactive-sessions.html\nInstalled kernel version: 1.0.5 \nThe following configurations have been updated: {'--datalake-formats': 'delta', '--conf': 'spark.sql.extensions=io.delta.sql.DeltaSparkSessionExtension --conf spark.sql.catalog.spark_catalog=org.apache.spark.sql.delta.catalog.DeltaCatalog --conf spark.delta.logStore.class=org.apache.spark.sql.delta.storage.S3SingleDriverLogStore'}\n",
					"output_type": "stream"
				}
			]
		},
		{
			"cell_type": "markdown",
			"source": "####  Run this cell to set up and start your interactive session.\n",
			"metadata": {
				"editable": true,
				"trusted": true
			}
		},
		{
			"cell_type": "code",
			"source": "%idle_timeout 2880\n%glue_version 4.0\n%worker_type G.1X\n%number_of_workers 5\n\nimport sys\nfrom awsglue.transforms import *\nfrom awsglue.utils import getResolvedOptions\nfrom pyspark.context import SparkContext\nfrom awsglue.context import GlueContext\nfrom awsglue.job import Job\nfrom pyspark.sql import functions as F\nfrom pyspark.sql import types as T\nsc = SparkContext.getOrCreate()\nglueContext = GlueContext(sc)\nspark = glueContext.spark_session\njob = Job(glueContext)",
			"metadata": {
				"trusted": true,
				"editable": true
			},
			"execution_count": 1,
			"outputs": [
				{
					"name": "stdout",
					"text": "Current idle_timeout is None minutes.\nidle_timeout has been set to 2880 minutes.\nSetting Glue version to: 4.0\nPrevious worker type: None\nSetting new worker type to: G.1X\nPrevious number of workers: None\nSetting new number of workers to: 5\nTrying to create a Glue session for the kernel.\nSession Type: glueetl\nWorker Type: G.1X\nNumber of Workers: 5\nIdle Timeout: 2880\nSession ID: 98fc663c-1c75-4e5b-b976-afdee97f8946\nApplying the following default arguments:\n--glue_kernel_version 1.0.5\n--enable-glue-datacatalog true\n--datalake-formats delta\n--conf spark.sql.extensions=io.delta.sql.DeltaSparkSessionExtension --conf spark.sql.catalog.spark_catalog=org.apache.spark.sql.delta.catalog.DeltaCatalog --conf spark.delta.logStore.class=org.apache.spark.sql.delta.storage.S3SingleDriverLogStore\nWaiting for session 98fc663c-1c75-4e5b-b976-afdee97f8946 to get into ready status...\nSession 98fc663c-1c75-4e5b-b976-afdee97f8946 has been created.\n\n",
					"output_type": "stream"
				}
			]
		},
		{
			"cell_type": "code",
			"source": "# Definimos variables a usar\ndatabase=\"delta_lake_db\"\ntable_name=\"table_silver_folder\"\nadditional_options={\"path\":\"s3://bucket-for-requests/data/api_database/silver_folder/\"}",
			"metadata": {
				"trusted": true,
				"tags": []
			},
			"execution_count": 2,
			"outputs": [
				{
					"name": "stdout",
					"text": "\n",
					"output_type": "stream"
				}
			]
		},
		{
			"cell_type": "markdown",
			"source": "# En el notebook gold vamos a realizar el estudio de outliers y añadir algunas variables propias que aporten información al estudio.",
			"metadata": {}
		},
		{
			"cell_type": "markdown",
			"source": "## Empezamos con la carga del archivo",
			"metadata": {}
		},
		{
			"cell_type": "code",
			"source": "df = glueContext.create_data_frame.from_catalog(\n    database=database,\n    table_name=table_name,\n    additional_options=additional_options\n)",
			"metadata": {
				"trusted": true,
				"tags": []
			},
			"execution_count": 3,
			"outputs": [
				{
					"name": "stdout",
					"text": "/opt/amazon/spark/python/lib/pyspark.zip/pyspark/sql/dataframe.py:127: UserWarning: DataFrame constructor is internal. Do not directly use it.\n",
					"output_type": "stream"
				}
			]
		},
		{
			"cell_type": "code",
			"source": "df.printSchema() # Observamos que ha cargado correctamente.",
			"metadata": {
				"trusted": true,
				"tags": []
			},
			"execution_count": 4,
			"outputs": [
				{
					"name": "stdout",
					"text": "root\n |-- address: string (nullable = true)\n |-- bathrooms_count: long (nullable = true)\n |-- country: string (nullable = true)\n |-- typology: string (nullable = true)\n |-- district: string (nullable = true)\n |-- exterior: boolean (nullable = true)\n |-- floor: string (nullable = true)\n |-- hasLift: boolean (nullable = true)\n |-- municipality: string (nullable = true)\n |-- neighborhood: string (nullable = true)\n |-- newDevelopment: boolean (nullable = true)\n |-- price: double (nullable = true)\n |-- price_per_m2: double (nullable = true)\n |-- propertyCode: string (nullable = true)\n |-- propertyType: string (nullable = true)\n |-- province: string (nullable = true)\n |-- rooms_count: long (nullable = true)\n |-- size_m2: double (nullable = true)\n |-- status: string (nullable = true)\n",
					"output_type": "stream"
				}
			]
		},
		{
			"cell_type": "code",
			"source": "data_type = dict(df.dtypes)['rooms_count']\nprint(f'Tipo de dato de la columna: {data_type}') # Observamos el data type de la columna pues printSchema no lo infiere correctamente.",
			"metadata": {
				"trusted": true,
				"tags": []
			},
			"execution_count": 5,
			"outputs": [
				{
					"name": "stdout",
					"text": "Tipo de dato de la columna: bigint\n",
					"output_type": "stream"
				}
			]
		},
		{
			"cell_type": "code",
			"source": "df.show(2)",
			"metadata": {
				"trusted": true,
				"tags": []
			},
			"execution_count": 6,
			"outputs": [
				{
					"name": "stdout",
					"text": "+--------------------+---------------+-------+--------+-----------+--------+-----+-------+------------------+------------+--------------+---------+------------+------------+------------+--------+-----------+-------+--------------+\n|             address|bathrooms_count|country|typology|   district|exterior|floor|hasLift|      municipality|neighborhood|newDevelopment|    price|price_per_m2|propertyCode|propertyType|province|rooms_count|size_m2|        status|\n+--------------------+---------------+-------+--------+-----------+--------+-----+-------+------------------+------------+--------------+---------+------------+------------+------------+--------+-----------+-------+--------------+\n|      calle Talavera|              5|     es|  chalet| Somosaguas|    null| null|   null|Pozuelo de Alarcón|  Somosaguas|         false|2190000.0|      3763.0|   100017563|      chalet|  Madrid|          6|  582.0|          good|\n|Lanzarote del lag...|              3|     es|  chalet|Los Molinos|    null| null|   null|            Getafe|        null|          true| 595000.0|      2587.0|   100049682|      chalet|  Madrid|          3|  230.0|newdevelopment|\n+--------------------+---------------+-------+--------+-----------+--------+-----+-------+------------------+------------+--------------+---------+------------+------------+------------+--------+-----------+-------+--------------+\nonly showing top 2 rows\n",
					"output_type": "stream"
				}
			]
		},
		{
			"cell_type": "code",
			"source": "summaries=df.summary().cache()\nsummaries.show() # Mostramos los estadísticos principales.",
			"metadata": {
				"trusted": true,
				"tags": []
			},
			"execution_count": 7,
			"outputs": [
				{
					"name": "stdout",
					"text": "+-------+---------------+------------------+-------+--------+----------+------------------+--------------------+--------------------+------------------+------------------+--------------------+------------+--------+------------------+------------------+------+\n|summary|        address|   bathrooms_count|country|typology|  district|             floor|        municipality|        neighborhood|             price|      price_per_m2|        propertyCode|propertyType|province|       rooms_count|           size_m2|status|\n+-------+---------------+------------------+-------+--------+----------+------------------+--------------------+--------------------+------------------+------------------+--------------------+------------+--------+------------------+------------------+------+\n|  count|           6483|              6483|   6483|    6483|      6418|              5259|                6483|                5256|              6483|              6483|                6483|        6483|    6483|              6483|              6483|  6431|\n|   mean|           null| 2.536942773407373|   null|    null|      null|3.1887005649717515|                null|                null|1023804.3749807188|5592.8682708622555|1.0393327727734074E8|        null|    null| 3.155483572420176|191.05293845441923|  null|\n| stddev|           null|1.6454429795205876|   null|    null|      null| 2.277902884781838|                null|                null| 1179178.502938709| 2996.414821224722|   6031896.471300442|        null|    null|1.6309105623605102|208.83188356341716|  null|\n|    min|           ARPO|                 0|     es|  chalet|      ARPO|                -1|          Alcobendas|12 de Octubre-Orc...|           54000.0|             208.0|           100017563|      chalet|  Madrid|                 0|              11.0|  good|\n|    25%|           null|                 1|   null|    null|      null|               1.0|                null|                null|          325000.0|            3286.0|        1.04128656E8|        null|    null|                 2|              80.0|  null|\n|    50%|           null|                 2|   null|    null|      null|               3.0|                null|                null|          679000.0|            4957.0|        1.05180966E8|        null|    null|                 3|             122.0|  null|\n|    75%|           null|                 3|   null|    null|      null|               4.0|                null|                null|         1290000.0|            7281.0|        1.05664878E8|        null|    null|                 4|             226.0|  null|\n|    max|Ángel Beato, 22|                25|     es|    flat|Zona norte|                st|Villaviciosa de Odón|             Águilas|            1.85E7|           30161.0|            99959485|      studio|  Madrid|                17|            3800.0| renew|\n+-------+---------------+------------------+-------+--------+----------+------------------+--------------------+--------------------+------------------+------------------+--------------------+------------+--------+------------------+------------------+------+\n",
					"output_type": "stream"
				}
			]
		},
		{
			"cell_type": "markdown",
			"source": "Me llama la atención lo siguiente:\n\n* Aún existan valores perdidos de floor en el dataset pero esto es debido a que hay diferentes tipos de viviendas, como los chalets, que se entiende que la vivienda es el propio conjunto de plantas.\n* En la variable price encontramos un precio máximo de 1.850.000.000. Esa cifra parece indicar la presencia de outliers. Esto parece ocurrir en rooms_count, size_m2 y price_per_m2. Entendemos que son viviendas de súper lujo pero la presencia de las mismas dificultan el estudio.\n\nCon esto dicho, el siguiente paso será el estudio de outliers.\n",
			"metadata": {
				"tags": []
			}
		},
		{
			"cell_type": "markdown",
			"source": "# Estudio de outliers.\nPara completar este paso vamos a crear una función que:\n* Calcule los percentiles 25 y 75.\n* Calcule el rango intercuartílico.\n* Defina los límites de los outliers.\n* Imprima el número de outliers.\n* Cape los outliers y los colapse a las colas en caso de elegir hacerlo.",
			"metadata": {}
		},
		{
			"cell_type": "code",
			"source": "# Realizamos la función siguiendo el criterio de umbrales del boxplot.\n\ndef calculate_outliers(df, column, mode=\"check\"):\n    # Calcular cuartiles y IQR\n    quantiles = df.approxQuantile(column, [0.25, 0.75], 0.05)\n    iqr = quantiles[1] - quantiles[0]\n    lower_bound = quantiles[0] - 3 * iqr\n    upper_bound = quantiles[1] + 3 * iqr\n    \n    # Filtrar los outliers\n    outliers = df.filter((F.col(column) < lower_bound) | (F.col(column) > upper_bound))\n    \n    # Si el modo es \"check\", solo imprimimos el número de outliers\n    if mode == \"check\":\n        print(f\"Outliers en {column}: {outliers.count()}\")\n    \n    # Si el modo es \"cap\", imprimimos los outliers y los capamos por el límite.\n    elif mode == \"cap\":\n        print(f\"Vamos a sustituir {outliers.count()} valores en {column}\")\n        df = df.withColumn(\n            column,\n            F.when(F.col(column) < lower_bound, lower_bound)\n             .when(F.col(column) > upper_bound, upper_bound)\n             .otherwise(F.col(column))\n        )\n        outliers_after_capping = df.filter((F.col(column) < lower_bound) | (F.col(column) > upper_bound))\n        print(f\"Outliers restantes después de capar: {outliers_after_capping.count()}\")\n    \n    return df\n\n# Generalmente se calcula usando 1,5 veces el iqr pero vamos a utilizar el doble de su valor para encontrar verdaderos atípicos.",
			"metadata": {
				"trusted": true,
				"tags": []
			},
			"execution_count": 8,
			"outputs": [
				{
					"name": "stdout",
					"text": "\n",
					"output_type": "stream"
				}
			]
		},
		{
			"cell_type": "markdown",
			"source": "### Creamos una función que aplique la función anterior a todas las columnas numéricas.",
			"metadata": {}
		},
		{
			"cell_type": "code",
			"source": "def apply_outliers_to_numeric(df, mode=\"check\"):\n    # Identificamos las columnas numéricas\n    numerical_cols = [c for c, t in df.dtypes if t in ('int', 'double', 'float', 'long', 'bigint')]\n    \n    # Aplicamos la función calculate_outliers a cada columna en la lista\n    for col in numerical_cols:\n        df=calculate_outliers(df, col, mode)\n    \n    return df",
			"metadata": {
				"trusted": true,
				"tags": []
			},
			"execution_count": 9,
			"outputs": [
				{
					"name": "stdout",
					"text": "\n",
					"output_type": "stream"
				}
			]
		},
		{
			"cell_type": "code",
			"source": "df_without_outliers=apply_outliers_to_numeric(df, mode=\"cap\")",
			"metadata": {
				"trusted": true,
				"tags": []
			},
			"execution_count": 10,
			"outputs": [
				{
					"name": "stdout",
					"text": "Vamos a sustituir 31 valores en bathrooms_count\nOutliers restantes después de capar: 0\nVamos a sustituir 196 valores en price\nOutliers restantes después de capar: 0\nVamos a sustituir 10 valores en price_per_m2\nOutliers restantes después de capar: 0\nVamos a sustituir 15 valores en rooms_count\nOutliers restantes después de capar: 0\nVamos a sustituir 318 valores en size_m2\nOutliers restantes después de capar: 0\n",
					"output_type": "stream"
				}
			]
		},
		{
			"cell_type": "code",
			"source": "df_without_outliers.summary().show() # Chequeamos que se han colapsado los datos en las colas.",
			"metadata": {
				"trusted": true,
				"tags": []
			},
			"execution_count": 11,
			"outputs": [
				{
					"name": "stdout",
					"text": "+-------+---------------+------------------+-------+--------+----------+------------------+--------------------+--------------------+-----------------+------------------+--------------------+------------+--------+------------------+------------------+------+\n|summary|        address|   bathrooms_count|country|typology|  district|             floor|        municipality|        neighborhood|            price|      price_per_m2|        propertyCode|propertyType|province|       rooms_count|           size_m2|status|\n+-------+---------------+------------------+-------+--------+----------+------------------+--------------------+--------------------+-----------------+------------------+--------------------+------------+--------+------------------+------------------+------+\n|  count|           6483|              6483|   6483|    6483|      6418|              5259|                6483|                5256|             6483|              6483|                6483|        6483|    6483|              6483|              6483|  6431|\n|   mean|           null|2.5252198056455346|   null|    null|      null|3.1887005649717515|                null|                null|961486.6416782354| 5585.942002159494|1.0393327727734074E8|        null|    null| 3.150701835569952|174.37933055684096|  null|\n| stddev|           null| 1.578483964541763|   null|    null|      null| 2.277902884781838|                null|                null|866484.0519551496|2959.4192411714585|   6031896.471300442|        null|    null|1.6053830067532597|136.26887764583552|  null|\n|    min|           ARPO|               0.0|     es|  chalet|      ARPO|                -1|          Alcobendas|12 de Octubre-Orc...|          54000.0|             208.0|           100017563|      chalet|  Madrid|               0.0|              11.0|  good|\n|    25%|           null|               1.0|   null|    null|      null|               1.0|                null|                null|         325000.0|            3286.0|        1.04128656E8|        null|    null|               2.0|              80.0|  null|\n|    50%|           null|               2.0|   null|    null|      null|               3.0|                null|                null|         679000.0|            4957.0|        1.05180966E8|        null|    null|               3.0|             122.0|  null|\n|    75%|           null|               3.0|   null|    null|      null|               4.0|                null|                null|        1290000.0|            7281.0|        1.05664878E8|        null|    null|               4.0|             226.0|  null|\n|    max|Ángel Beato, 22|               9.0|     es|    flat|Zona norte|                st|Villaviciosa de Odón|             Águilas|        3653000.0|           17603.0|            99959485|      studio|  Madrid|              10.0|             557.0| renew|\n+-------+---------------+------------------+-------+--------+----------+------------------+--------------------+--------------------+-----------------+------------------+--------------------+------------+--------+------------------+------------------+------+\n",
					"output_type": "stream"
				}
			]
		},
		{
			"cell_type": "markdown",
			"source": "Los datos arrojados reflejan que efectivamente los datos se han colapsado en las colas. Por ejemplo, el valor máximo del precio de una vivienda es ahora 3.653.000€. ",
			"metadata": {}
		},
		{
			"cell_type": "markdown",
			"source": "# Procedemos a realizar feature engineering para aportar información al estudio y al futuro modelo de predicción.",
			"metadata": {}
		},
		{
			"cell_type": "code",
			"source": "# Feature engineering\ndf_price_per_district=df_without_outliers.groupBy(F.col(\"district\"))\\\n                                        .agg(F.mean(\"price\")\\\n                                        .alias(\"avg_price_per_district\"))",
			"metadata": {
				"trusted": true,
				"tags": []
			},
			"execution_count": 12,
			"outputs": [
				{
					"name": "stdout",
					"text": "\n",
					"output_type": "stream"
				}
			]
		},
		{
			"cell_type": "code",
			"source": "df_price_per_district.show()",
			"metadata": {
				"trusted": true,
				"tags": []
			},
			"execution_count": 13,
			"outputs": [
				{
					"name": "stdout",
					"text": "+--------------------+----------------------+\n|            district|avg_price_per_district|\n+--------------------+----------------------+\n|           Chamartín|           1658541.416|\n|       Zona Estación|            1193608.04|\n|           Las Lomas|     2252090.909090909|\n|       Casco Antiguo|     368897.8333333333|\n|            El Burgo|    515714.28571428574|\n|Pol. Industrial n...|              195300.0|\n|         Laguna Park|     296466.3333333333|\n|            Chamberí|    1240040.1756756757|\n|              Tetuán|      568637.182572614|\n|Yucatán- Las Corn...|    1695666.6666666667|\n|          Miramadrid|     707592.3076923077|\n|             Bonanza|    1183777.7777777778|\n|Centro - Ayuntami...|              203262.5|\n|               Reyes|    194743.22222222222|\n|El Arroyo - La Fu...|              197360.0|\n|         Universidad|              222000.0|\n|            Noroeste|              213462.5|\n|Encinar de los Reyes|     1413482.142857143|\n|    Derechos Humanos|              265000.0|\n|          San Isidro|             370752.75|\n+--------------------+----------------------+\nonly showing top 20 rows\n",
					"output_type": "stream"
				}
			]
		},
		{
			"cell_type": "code",
			"source": "df_joined=df.join(df_price_per_district, on=\"district\", how=\"left\")\ndf_joined.show()",
			"metadata": {
				"trusted": true,
				"tags": []
			},
			"execution_count": 14,
			"outputs": [
				{
					"name": "stdout",
					"text": "+--------------------+--------------------+---------------+-------+--------+--------+-----+-------+-------------------+--------------------+--------------+---------+------------+------------+------------+--------+-----------+-------+--------------+----------------------+\n|            district|             address|bathrooms_count|country|typology|exterior|floor|hasLift|       municipality|        neighborhood|newDevelopment|    price|price_per_m2|propertyCode|propertyType|province|rooms_count|size_m2|        status|avg_price_per_district|\n+--------------------+--------------------+---------------+-------+--------+--------+-----+-------+-------------------+--------------------+--------------+---------+------------+------------+------------+--------+-----------+-------+--------------+----------------------+\n|          Somosaguas|      calle Talavera|              5|     es|  chalet|    null| null|   null| Pozuelo de Alarcón|          Somosaguas|         false|2190000.0|      3763.0|   100017563|      chalet|  Madrid|          6|  582.0|          good|             1852000.0|\n|         Los Molinos|Lanzarote del lag...|              3|     es|  chalet|    null| null|   null|             Getafe|                null|          true| 595000.0|      2587.0|   100049682|      chalet|  Madrid|          3|  230.0|newdevelopment|     529807.6923076923|\n|         Los Molinos|Lanzarote del lag...|              3|     es|  chalet|    null| null|   null|             Getafe|                null|          true| 609000.0|      2591.0|   100049715|      chalet|  Madrid|          3|  235.0|newdevelopment|     529807.6923076923|\n|           Chamartín|    calle de Serrano|              3|     es|    flat|    true|    3|   true|             Madrid|Bernabéu-Hispanoa...|         false|1050000.0|      4200.0|   100082444|        flat|  Madrid|          4|  250.0|         renew|           1658541.416|\n|         Zona Pueblo|plaza de la Coron...|              2|     es|  chalet|    null| null|   null| Pozuelo de Alarcón|         Zona Pueblo|         false| 300000.0|      2970.0|   100096825|      chalet|  Madrid|          1|  101.0|          good|     1355664.450980392|\n|           Chamartín|    calle de Serrano|              3|     es|    flat|    true|   bj|   true|             Madrid|Bernabéu-Hispanoa...|         false| 980000.0|      3952.0|   100106289|        flat|  Madrid|          5|  248.0|         renew|           1658541.416|\n|        Rozas Centro|    Navas de Marques|              2|     es|    flat|    true|   bj|   true|Las Rozas de Madrid|       Casco Antiguo|         false| 395000.0|      1955.0|   100121358|        flat|  Madrid|          3|  202.0|          good|          405425.53125|\n|              Tetuán|paseo de la Caste...|              3|     es|    flat|    true|    1|   true|             Madrid|   Cuzco-Castillejos|         false|1449000.0|      7790.0|   100138201|        flat|  Madrid|          3|  186.0|          good|      568637.182572614|\n|           Vicálvaro| Cerro del Campo, 31|              2|     es|    flat|    true|   bj|   true|             Madrid|        El Cañaveral|          true| 360000.0|      3830.0|   100138600|        flat|  Madrid|          3|   94.0|newdevelopment|    376080.66346153844|\n|              Retiro|   barrio Niño Jesús|              2|     es|    flat|    true|   bj|   true|             Madrid|          Niño Jesús|         false|1150000.0|      5779.0|   100141387|        flat|  Madrid|          3|  199.0|          good|    1033324.8743718592|\n|Encinar de los Reyes| SAN ENRIQUE DE OSSO|              5|     es|  chalet|    null| null|   null|        La Moraleja|                null|         false|1860000.0|      5636.0|   100171625|      chalet|  Madrid|          6|  330.0|          good|     1413482.142857143|\n|         Cortijo Sur|calle Av. Armada ...|              4|     es|  chalet|    null| null|   null| Boadilla del Monte|                null|         false|1400000.0|      3097.0|   100233420|      chalet|  Madrid|          5|  452.0|          good|    1072826.7857142857|\n|            Chamberí|    barrio Trafalgar|              2|     es|    flat|    true|    2|   true|             Madrid|           Trafalgar|         false| 828000.0|      6000.0|   100265984|        flat|  Madrid|          4|  138.0|         renew|    1240040.1756756757|\n|           Chamartín|calle de Colombia...|              1|     es|    flat|    true|   bj|   true|             Madrid|Bernabéu-Hispanoa...|         false| 366000.0|      2490.0|   100267146|        flat|  Madrid|          1|  147.0|          good|           1658541.416|\n| Barrio de Salamanca|         barrio Goya|              3|     es|    flat|    true|    1|   true|             Madrid|                Goya|         false| 789000.0|      9282.0|   100268678|        flat|  Madrid|          3|   85.0|          good|     1569158.038243626|\n|              Centro|    calle de Velarde|              1|     es|    flat|   false|    3|   true|             Madrid|Malasaña-Universidad|         false| 329000.0|      4165.0|   100308924|        flat|  Madrid|          3|   79.0|         renew|     769398.6464032421|\n|           Chamartín|      barrio El Viso|              3|     es|    flat|    true| null|   true|             Madrid|             El Viso|         false|2300000.0|      9127.0|   100313613|   penthouse|  Madrid|          1|  252.0|          good|           1658541.416|\n|              Tetuán|    calle de Tablada|              1|     es|    flat|    true|   bj|  false|             Madrid|          Berruguete|         false| 239000.0|      4051.0|   100315919|        flat|  Madrid|          2|   59.0|          good|      568637.182572614|\n|              Centro|      barrio Palacio|              3|     es|    flat|    true|    7|   true|             Madrid|             Palacio|         false|1175000.0|      6792.0|   100335644|   penthouse|  Madrid|          4|  173.0|          good|     769398.6464032421|\n|Los Satélites - R...|carretera de Boad...|              2|     es|    flat|    true|    2|   true|        Majadahonda|                null|          true| 633000.0|      5861.0|   100358607|        flat|  Madrid|          2|  108.0|          null|             1273076.0|\n+--------------------+--------------------+---------------+-------+--------+--------+-----+-------+-------------------+--------------------+--------------+---------+------------+------------+------------+--------+-----------+-------+--------------+----------------------+\nonly showing top 20 rows\n",
					"output_type": "stream"
				}
			]
		},
		{
			"cell_type": "code",
			"source": "# Definimos un márgen de tolerancia\ntolerance=0.1\n# Creamos una nueva columna que clasifique las viviendas según la media de precios de la zona. \ndf_joined=df_joined.withColumn(\"price_category\",\n                               F.when(F.col(\"price\")>F.col(\"avg_price_per_district\")*(1+tolerance), \"high\")\\\n                               .when(F.col(\"price\")<F.col(\"avg_price_per_district\")*(1-tolerance), \"low\")\\\n                               .otherwise(\"medium\")\n                              )\ndf_joined.show()",
			"metadata": {
				"trusted": true,
				"tags": []
			},
			"execution_count": 15,
			"outputs": [
				{
					"name": "stdout",
					"text": "+--------------------+--------------------+---------------+-------+--------+--------+-----+-------+-------------------+--------------------+--------------+---------+------------+------------+------------+--------+-----------+-------+--------------+----------------------+--------------+\n|            district|             address|bathrooms_count|country|typology|exterior|floor|hasLift|       municipality|        neighborhood|newDevelopment|    price|price_per_m2|propertyCode|propertyType|province|rooms_count|size_m2|        status|avg_price_per_district|price_category|\n+--------------------+--------------------+---------------+-------+--------+--------+-----+-------+-------------------+--------------------+--------------+---------+------------+------------+------------+--------+-----------+-------+--------------+----------------------+--------------+\n|          Somosaguas|      calle Talavera|              5|     es|  chalet|    null| null|   null| Pozuelo de Alarcón|          Somosaguas|         false|2190000.0|      3763.0|   100017563|      chalet|  Madrid|          6|  582.0|          good|             1852000.0|          high|\n|         Los Molinos|Lanzarote del lag...|              3|     es|  chalet|    null| null|   null|             Getafe|                null|          true| 595000.0|      2587.0|   100049682|      chalet|  Madrid|          3|  230.0|newdevelopment|     529807.6923076923|          high|\n|         Los Molinos|Lanzarote del lag...|              3|     es|  chalet|    null| null|   null|             Getafe|                null|          true| 609000.0|      2591.0|   100049715|      chalet|  Madrid|          3|  235.0|newdevelopment|     529807.6923076923|          high|\n|           Chamartín|    calle de Serrano|              3|     es|    flat|    true|    3|   true|             Madrid|Bernabéu-Hispanoa...|         false|1050000.0|      4200.0|   100082444|        flat|  Madrid|          4|  250.0|         renew|           1658541.416|           low|\n|         Zona Pueblo|plaza de la Coron...|              2|     es|  chalet|    null| null|   null| Pozuelo de Alarcón|         Zona Pueblo|         false| 300000.0|      2970.0|   100096825|      chalet|  Madrid|          1|  101.0|          good|     1355664.450980392|           low|\n|           Chamartín|    calle de Serrano|              3|     es|    flat|    true|   bj|   true|             Madrid|Bernabéu-Hispanoa...|         false| 980000.0|      3952.0|   100106289|        flat|  Madrid|          5|  248.0|         renew|           1658541.416|           low|\n|        Rozas Centro|    Navas de Marques|              2|     es|    flat|    true|   bj|   true|Las Rozas de Madrid|       Casco Antiguo|         false| 395000.0|      1955.0|   100121358|        flat|  Madrid|          3|  202.0|          good|          405425.53125|        medium|\n|              Tetuán|paseo de la Caste...|              3|     es|    flat|    true|    1|   true|             Madrid|   Cuzco-Castillejos|         false|1449000.0|      7790.0|   100138201|        flat|  Madrid|          3|  186.0|          good|      568637.182572614|          high|\n|           Vicálvaro| Cerro del Campo, 31|              2|     es|    flat|    true|   bj|   true|             Madrid|        El Cañaveral|          true| 360000.0|      3830.0|   100138600|        flat|  Madrid|          3|   94.0|newdevelopment|    376080.66346153844|        medium|\n|              Retiro|   barrio Niño Jesús|              2|     es|    flat|    true|   bj|   true|             Madrid|          Niño Jesús|         false|1150000.0|      5779.0|   100141387|        flat|  Madrid|          3|  199.0|          good|    1033324.8743718592|          high|\n|Encinar de los Reyes| SAN ENRIQUE DE OSSO|              5|     es|  chalet|    null| null|   null|        La Moraleja|                null|         false|1860000.0|      5636.0|   100171625|      chalet|  Madrid|          6|  330.0|          good|     1413482.142857143|          high|\n|         Cortijo Sur|calle Av. Armada ...|              4|     es|  chalet|    null| null|   null| Boadilla del Monte|                null|         false|1400000.0|      3097.0|   100233420|      chalet|  Madrid|          5|  452.0|          good|    1072826.7857142857|          high|\n|            Chamberí|    barrio Trafalgar|              2|     es|    flat|    true|    2|   true|             Madrid|           Trafalgar|         false| 828000.0|      6000.0|   100265984|        flat|  Madrid|          4|  138.0|         renew|    1240040.1756756757|           low|\n|           Chamartín|calle de Colombia...|              1|     es|    flat|    true|   bj|   true|             Madrid|Bernabéu-Hispanoa...|         false| 366000.0|      2490.0|   100267146|        flat|  Madrid|          1|  147.0|          good|           1658541.416|           low|\n| Barrio de Salamanca|         barrio Goya|              3|     es|    flat|    true|    1|   true|             Madrid|                Goya|         false| 789000.0|      9282.0|   100268678|        flat|  Madrid|          3|   85.0|          good|     1569158.038243626|           low|\n|              Centro|    calle de Velarde|              1|     es|    flat|   false|    3|   true|             Madrid|Malasaña-Universidad|         false| 329000.0|      4165.0|   100308924|        flat|  Madrid|          3|   79.0|         renew|     769398.6464032421|           low|\n|           Chamartín|      barrio El Viso|              3|     es|    flat|    true| null|   true|             Madrid|             El Viso|         false|2300000.0|      9127.0|   100313613|   penthouse|  Madrid|          1|  252.0|          good|           1658541.416|          high|\n|              Tetuán|    calle de Tablada|              1|     es|    flat|    true|   bj|  false|             Madrid|          Berruguete|         false| 239000.0|      4051.0|   100315919|        flat|  Madrid|          2|   59.0|          good|      568637.182572614|           low|\n|              Centro|      barrio Palacio|              3|     es|    flat|    true|    7|   true|             Madrid|             Palacio|         false|1175000.0|      6792.0|   100335644|   penthouse|  Madrid|          4|  173.0|          good|     769398.6464032421|          high|\n|Los Satélites - R...|carretera de Boad...|              2|     es|    flat|    true|    2|   true|        Majadahonda|                null|          true| 633000.0|      5861.0|   100358607|        flat|  Madrid|          2|  108.0|          null|             1273076.0|           low|\n+--------------------+--------------------+---------------+-------+--------+--------+-----+-------+-------------------+--------------------+--------------+---------+------------+------------+------------+--------+-----------+-------+--------------+----------------------+--------------+\nonly showing top 20 rows\n",
					"output_type": "stream"
				}
			]
		},
		{
			"cell_type": "markdown",
			"source": "### Por último, se torna necesario añadir una variable de tipo fecha precisamente para realizar análisis más detallados y sobre todo conocer el evolutivo del precio en las futuras consultas.\n\nPara conseguir esto, vamos a añadir la fecha actual en la que hemos limpiado y trabajado los datos.",
			"metadata": {}
		},
		{
			"cell_type": "code",
			"source": "df_joined=df_joined.withColumn(\"date\", F.current_date()).cache()\ndf_joined.show(3, vertical=True)",
			"metadata": {
				"trusted": true,
				"tags": []
			},
			"execution_count": 16,
			"outputs": [
				{
					"name": "stdout",
					"text": "-RECORD 0--------------------------------------\n district               | Somosaguas           \n address                | calle Talavera       \n bathrooms_count        | 5                    \n country                | es                   \n typology               | chalet               \n exterior               | null                 \n floor                  | null                 \n hasLift                | null                 \n municipality           | Pozuelo de Alarcón   \n neighborhood           | Somosaguas           \n newDevelopment         | false                \n price                  | 2190000.0            \n price_per_m2           | 3763.0               \n propertyCode           | 100017563            \n propertyType           | chalet               \n province               | Madrid               \n rooms_count            | 6                    \n size_m2                | 582.0                \n status                 | good                 \n avg_price_per_district | 1852000.0            \n price_category         | high                 \n date                   | 2024-09-17           \n-RECORD 1--------------------------------------\n district               | Los Molinos          \n address                | Lanzarote del lag... \n bathrooms_count        | 3                    \n country                | es                   \n typology               | chalet               \n exterior               | null                 \n floor                  | null                 \n hasLift                | null                 \n municipality           | Getafe               \n neighborhood           | null                 \n newDevelopment         | true                 \n price                  | 595000.0             \n price_per_m2           | 2587.0               \n propertyCode           | 100049682            \n propertyType           | chalet               \n province               | Madrid               \n rooms_count            | 3                    \n size_m2                | 230.0                \n status                 | newdevelopment       \n avg_price_per_district | 529807.6923076923    \n price_category         | high                 \n date                   | 2024-09-17           \n-RECORD 2--------------------------------------\n district               | Los Molinos          \n address                | Lanzarote del lag... \n bathrooms_count        | 3                    \n country                | es                   \n typology               | chalet               \n exterior               | null                 \n floor                  | null                 \n hasLift                | null                 \n municipality           | Getafe               \n neighborhood           | null                 \n newDevelopment         | true                 \n price                  | 609000.0             \n price_per_m2           | 2591.0               \n propertyCode           | 100049715            \n propertyType           | chalet               \n province               | Madrid               \n rooms_count            | 3                    \n size_m2                | 235.0                \n status                 | newdevelopment       \n avg_price_per_district | 529807.6923076923    \n price_category         | high                 \n date                   | 2024-09-17           \nonly showing top 3 rows\n",
					"output_type": "stream"
				}
			]
		},
		{
			"cell_type": "code",
			"source": "df_joined.printSchema() # En este punto me fijo en la columna floor y veo que es de tipo string. Quiero castearla a tipo entero para que sea coherente.",
			"metadata": {
				"trusted": true,
				"tags": []
			},
			"execution_count": 17,
			"outputs": [
				{
					"name": "stdout",
					"text": "root\n |-- district: string (nullable = true)\n |-- address: string (nullable = true)\n |-- bathrooms_count: long (nullable = true)\n |-- country: string (nullable = true)\n |-- typology: string (nullable = true)\n |-- exterior: boolean (nullable = true)\n |-- floor: string (nullable = true)\n |-- hasLift: boolean (nullable = true)\n |-- municipality: string (nullable = true)\n |-- neighborhood: string (nullable = true)\n |-- newDevelopment: boolean (nullable = true)\n |-- price: double (nullable = true)\n |-- price_per_m2: double (nullable = true)\n |-- propertyCode: string (nullable = true)\n |-- propertyType: string (nullable = true)\n |-- province: string (nullable = true)\n |-- rooms_count: long (nullable = true)\n |-- size_m2: double (nullable = true)\n |-- status: string (nullable = true)\n |-- avg_price_per_district: double (nullable = true)\n |-- price_category: string (nullable = false)\n |-- date: date (nullable = false)\n",
					"output_type": "stream"
				}
			]
		},
		{
			"cell_type": "code",
			"source": "distinct_floors = df_joined.select(\"floor\").distinct().orderBy(\"floor\") # Exploro la variable y vemos que hay valores de tipo string.\ndistinct_floors.show(30)",
			"metadata": {
				"trusted": true,
				"tags": []
			},
			"execution_count": 28,
			"outputs": [
				{
					"name": "stdout",
					"text": "+-----+\n|floor|\n+-----+\n| null|\n|   -1|\n|    1|\n|   10|\n|   11|\n|   12|\n|   13|\n|   14|\n|   15|\n|   17|\n|   18|\n|    2|\n|   21|\n|   22|\n|   24|\n|    3|\n|    4|\n|    5|\n|    6|\n|    7|\n|    8|\n|    9|\n|   bj|\n|   en|\n|   ss|\n|   st|\n+-----+\n",
					"output_type": "stream"
				}
			]
		},
		{
			"cell_type": "code",
			"source": "df_floor=df_joined.filter((F.col(\"floor\") ==\"en\") | (F.col(\"floor\")==\"ss\"))\ndf_floor.show(30) # Exploramos la variable cuando toma alguno de los valores seleccionados de tipo string.",
			"metadata": {
				"trusted": true,
				"tags": []
			},
			"execution_count": 29,
			"outputs": [
				{
					"name": "stdout",
					"text": "+-------------------+--------------------+---------------+-------+--------+--------+-----+-------+------------+--------------------+--------------+---------+------------+------------+------------+--------+-----------+-------+------+----------------------+--------------+----------+\n|           district|             address|bathrooms_count|country|typology|exterior|floor|hasLift|municipality|        neighborhood|newDevelopment|    price|price_per_m2|propertyCode|propertyType|province|rooms_count|size_m2|status|avg_price_per_district|price_category|      date|\n+-------------------+--------------------+---------------+-------+--------+--------+-----+-------+------------+--------------------+--------------+---------+------------+------------+------------+--------+-----------+-------+------+----------------------+--------------+----------+\n|Barrio de Salamanca|avenida de Felipe II|              1|     es|    flat|    true|   ss|  false|      Madrid|                Goya|         false| 385000.0|      7130.0|   100644124|        flat|  Madrid|          1|   54.0|  good|     1569158.038243626|           low|2024-09-17|\n|Barrio de Salamanca|    calle de Padilla|              2|     es|    flat|    true|   en|   true|      Madrid|          Castellana|         false|2350000.0|      9109.0|   102905883|        flat|  Madrid|          3|  258.0| renew|     1569158.038243626|          high|2024-09-17|\n|Barrio de Salamanca|calle del General...|              2|     es|    flat|   false|   en|   true|      Madrid|               Lista|         false| 620000.0|      6327.0|   102993565|        flat|  Madrid|          2|   98.0|  good|     1569158.038243626|           low|2024-09-17|\n|           Chamberí|calle de Santa En...|              1|     es|    flat|   false|   en|   true|      Madrid|Nuevos Ministerio...|         false| 280000.0|      4667.0|   103109217|        flat|  Madrid|          3|   60.0|  good|    1240040.1756756757|           low|2024-09-17|\n|Barrio de Salamanca|calle del Conde d...|              1|     es|    flat|    true|   ss|   true|      Madrid|           Recoletos|         false| 415000.0|      6587.0|   103269142|        flat|  Madrid|          1|   63.0|  good|     1569158.038243626|           low|2024-09-17|\n|             Tetuán|    calle Berruguete|              2|     es|    flat|    true|   en|   true|      Madrid|          Berruguete|         false| 330000.0|      3267.0|   103333071|      duplex|  Madrid|          3|  101.0|  good|      568637.182572614|           low|2024-09-17|\n|Barrio de Salamanca|calle del Conde d...|              1|     es|    flat|    true|   ss|  false|      Madrid|           Recoletos|         false| 415000.0|      5764.0|   103494381|        flat|  Madrid|          1|   72.0|  good|     1569158.038243626|           low|2024-09-17|\n|             Retiro|calle de Sánchez ...|              2|     es|    flat|   false|   ss|   true|      Madrid|            Pacífico|         false| 220000.0|      5500.0|   104023750|        flat|  Madrid|          2|   40.0|  good|    1033324.8743718592|           low|2024-09-17|\n|          Hortaleza|calle de Mota del...|              2|     es|    flat|    true|   en|   true|      Madrid|            Canillas|         false| 260000.0|      3714.0|   104639000|      duplex|  Madrid|          2|   70.0|  good|    1239664.2406015038|           low|2024-09-17|\n|            Moncloa|calle de Benito G...|              1|     es|    flat|   false|   en|   true|      Madrid|           Argüelles|         false| 210000.0|      5250.0|   104692048|        flat|  Madrid|          1|   40.0|  good|    1540750.6917562725|           low|2024-09-17|\n|         Arganzuela|    calle de Segovia|              1|     es|    flat|    true|   ss|  false|      Madrid|            Imperial|         false| 259000.0|      4796.0|   104850334|        flat|  Madrid|          1|   54.0|  good|    457697.83419689117|           low|2024-09-17|\n|          Chamartín|   calle de Colombia|              1|     es|    flat|    true|   ss|   true|      Madrid|Bernabéu-Hispanoa...|         false| 220000.0|      4000.0|   104951160|        flat|  Madrid|          2|   55.0|  good|           1658541.416|           low|2024-09-17|\n|Barrio de Salamanca|   calle de Castelló|              4|     es|    flat|    true|   en|   true|      Madrid|           Recoletos|         false|2690000.0|     11447.0|   105146712|        flat|  Madrid|          3|  235.0|  good|     1569158.038243626|          high|2024-09-17|\n|           Chamberí|calle de Ponce de...|              1|     es|    flat|    true|   ss|  false|      Madrid|             Almagro|         false| 225000.0|      5921.0|   105285122|        flat|  Madrid|          1|   38.0|  good|    1240040.1756756757|           low|2024-09-17|\n|             Centro|calle de Santa Te...|              2|     es|    flat|   false|   en|  false|      Madrid|     Chueca-Justicia|         false| 626000.0|      3517.0|   105290295|        flat|  Madrid|          3|  178.0| renew|     769398.6464032421|           low|2024-09-17|\n|  Alcobendas Centro|calle del Marqués...|              1|     es|    flat|    true|   en|   true|  Alcobendas|                null|         false| 235000.0|      3615.0|   105290828|        flat|  Madrid|          3|   65.0|  good|    259588.23529411765|        medium|2024-09-17|\n|             Centro|      calle del Olmo|              2|     es|    flat|    true|   en|   true|      Madrid|Lavapiés-Embajadores|         false| 500000.0|      5495.0|   105292599|        flat|  Madrid|          2|   91.0|  good|     769398.6464032421|           low|2024-09-17|\n|        Carabanchel|  barrio Buena Vista|              2|     es|    flat|    true|   en|   true|      Madrid|         Buena Vista|         false| 310000.0|      2153.0|   105339227|        flat|  Madrid|          2|  144.0|  good|     277698.3312883436|          high|2024-09-17|\n|             Centro|   calle de la Palma|              5|     es|    flat|    true|   en|  false|      Madrid|Malasaña-Universidad|         false|1195000.0|      7029.0|   105391816|        flat|  Madrid|          3|  170.0|  good|     769398.6464032421|          high|2024-09-17|\n|             Centro|barrio Malasaña-U...|              5|     es|    flat|    true|   en|  false|      Madrid|Malasaña-Universidad|         false|1195000.0|      7029.0|   105402525|        flat|  Madrid|          3|  170.0|  good|     769398.6464032421|          high|2024-09-17|\n|             Latina|calle de la Duque...|              1|     es|    flat|    true|   en|   true|      Madrid|              Lucero|         false| 209000.0|      2459.0|   105428341|        flat|  Madrid|          3|   85.0|  good|     292681.8390804598|           low|2024-09-17|\n|           Chamberí|    calle de Treviño|              1|     es|    flat|   false|   en|   true|      Madrid|Nuevos Ministerio...|         false| 279000.0|      8206.0|   105445548|        flat|  Madrid|          1|   34.0|  good|    1240040.1756756757|           low|2024-09-17|\n|             Tetuán|calle de San Raim...|              1|     es|    flat|    true|   ss|  false|      Madrid|       Bellas Vistas|         false| 114900.0|      3706.0|   105448685|      studio|  Madrid|          0|   31.0|  good|      568637.182572614|           low|2024-09-17|\n|           Chamberí|calle de Andrés M...|              2|     es|    flat|    true|   en|  false|      Madrid|          Gaztambide|         false| 550000.0|      4583.0|   105498816|        flat|  Madrid|          3|  120.0|  good|    1240040.1756756757|           low|2024-09-17|\n|             Centro|barrio Chueca-Jus...|              2|     es|    flat|    true|   ss|  false|      Madrid|     Chueca-Justicia|         false| 800000.0|      8000.0|   105501720|        flat|  Madrid|          2|  100.0|  good|     769398.6464032421|        medium|2024-09-17|\n|             Centro|  calle de Argensola|              3|     es|    flat|    true|   ss|  false|      Madrid|     Chueca-Justicia|         false| 750000.0|      7979.0|   105501758|        flat|  Madrid|          2|   94.0|  good|     769398.6464032421|        medium|2024-09-17|\n|             Centro|calle de San Anto...|              2|     es|    flat|    true|   en|   true|     Leganés|              Santos|         false| 179800.0|      2809.0|   105532104|      duplex|  Madrid|          2|   64.0|  good|     769398.6464032421|           low|2024-09-17|\n|Barrio de Salamanca|calle del General...|              2|     es|    flat|   false|   en|   true|      Madrid|                Goya|         false| 510000.0|     10200.0|   105567509|        flat|  Madrid|          2|   50.0|  good|     1569158.038243626|           low|2024-09-17|\n|             Retiro|avenida de Menénd...|              2|     es|    flat|    true|   ss|  false|      Madrid|          Niño Jesús|         false| 240000.0|      2609.0|   105571365|        flat|  Madrid|          3|   92.0| renew|    1033324.8743718592|           low|2024-09-17|\n|         Arganzuela| calle de la Pizarra|              2|     es|    flat|    true|   en|   true|      Madrid|            Imperial|         false| 460000.0|      4144.0|   105597454|        flat|  Madrid|          4|  111.0|  good|    457697.83419689117|        medium|2024-09-17|\n+-------------------+--------------------+---------------+-------+--------+--------+-----+-------+------------+--------------------+--------------+---------+------------+------------+------------+--------+-----------+-------+------+----------------------+--------------+----------+\nonly showing top 30 rows\n",
					"output_type": "stream"
				}
			]
		},
		{
			"cell_type": "code",
			"source": "df_filtered_count=df_joined.filter(F.col(\"floor\").isin(\"en\", \"ss\", \"st\", \"bj\")) \\\n                           .groupBy(\"floor\", \"propertyType\") \\\n                           .count() \\\n                           .orderBy(\"floor\")\n\ndf_filtered_count.show() # Miramos la distribución del tipo de viviendas.",
			"metadata": {
				"trusted": true,
				"tags": []
			},
			"execution_count": 30,
			"outputs": [
				{
					"name": "stdout",
					"text": "+-----+------------+-----+\n|floor|propertyType|count|\n+-----+------------+-----+\n|   bj|        flat|  628|\n|   bj|      studio|   34|\n|   bj|      duplex|   71|\n|   en|      duplex|    3|\n|   en|      studio|    1|\n|   en|        flat|   60|\n|   ss|        flat|   23|\n|   ss|      studio|    1|\n|   st|        flat|   13|\n+-----+------------+-----+\n",
					"output_type": "stream"
				}
			]
		},
		{
			"cell_type": "markdown",
			"source": "Viendo estos resultados, podemos asumir que estamos ante tipos de viviendas que o bien son pisos para una persona (estudios), pisos como tal o pisos con dos plantas.",
			"metadata": {}
		},
		{
			"cell_type": "markdown",
			"source": "## Sería lógico asumir que \"bj\" puede significar bajo, pero el resto de siglas no están del todo claras. \"En\" puede significar entreplanta y \"ss\" o \"st\" sótano. \n## Sin embargo, como no lo podemos asegurar, me decanto por sustituir bj por 0 (pues es el que mayor incidencia tiene) y el resto de valores por la moda",
			"metadata": {}
		},
		{
			"cell_type": "code",
			"source": "df_joined=df_joined.withColumn(\n    \"floor\",\n    F.when(F.col(\"floor\")==\"bj\", 0) # Sustituimos los valores \"bj\" por 0.\n     .when(F.col(\"floor\").isin(\"en\", \"ss\", \"st\"), 3) # Sustituimos los valores extraños por la moda.\n     .otherwise(F.col(\"floor\")) \n)",
			"metadata": {
				"trusted": true,
				"tags": []
			},
			"execution_count": 31,
			"outputs": [
				{
					"name": "stdout",
					"text": "\n",
					"output_type": "stream"
				}
			]
		},
		{
			"cell_type": "code",
			"source": "check=df_joined.filter(F.col(\"floor\").isin(\"en\", \"ss\", \"st\", \"bj\")) \\\n                           .groupBy(\"floor\", \"propertyType\") \\\n                           .count() \\\n                           .orderBy(\"floor\")\ncheck.show()# Chequeamos que las transformaciones han funcionado.",
			"metadata": {
				"trusted": true,
				"tags": []
			},
			"execution_count": 35,
			"outputs": [
				{
					"name": "stdout",
					"text": "+-----+------------+-----+\n|floor|propertyType|count|\n+-----+------------+-----+\n+-----+------------+-----+\n",
					"output_type": "stream"
				}
			]
		},
		{
			"cell_type": "code",
			"source": "df_casted=df_joined.withColumn(\"floor\", F.col(\"floor\").cast(T.IntegerType())) # Casteamos la columna floor pasándola a tipo integer.",
			"metadata": {
				"trusted": true,
				"tags": []
			},
			"execution_count": 36,
			"outputs": [
				{
					"name": "stdout",
					"text": "\n",
					"output_type": "stream"
				}
			]
		},
		{
			"cell_type": "code",
			"source": "df_casted.printSchema()",
			"metadata": {
				"trusted": true,
				"tags": []
			},
			"execution_count": 37,
			"outputs": [
				{
					"name": "stdout",
					"text": "root\n |-- district: string (nullable = true)\n |-- address: string (nullable = true)\n |-- bathrooms_count: long (nullable = true)\n |-- country: string (nullable = true)\n |-- typology: string (nullable = true)\n |-- exterior: boolean (nullable = true)\n |-- floor: integer (nullable = true)\n |-- hasLift: boolean (nullable = true)\n |-- municipality: string (nullable = true)\n |-- neighborhood: string (nullable = true)\n |-- newDevelopment: boolean (nullable = true)\n |-- price: double (nullable = true)\n |-- price_per_m2: double (nullable = true)\n |-- propertyCode: string (nullable = true)\n |-- propertyType: string (nullable = true)\n |-- province: string (nullable = true)\n |-- rooms_count: long (nullable = true)\n |-- size_m2: double (nullable = true)\n |-- status: string (nullable = true)\n |-- avg_price_per_district: double (nullable = true)\n |-- price_category: string (nullable = false)\n |-- date: date (nullable = false)\n",
					"output_type": "stream"
				}
			]
		},
		{
			"cell_type": "code",
			"source": "df_casted.describe().show()",
			"metadata": {},
			"execution_count": null,
			"outputs": []
		},
		{
			"cell_type": "markdown",
			"source": "# Una vez realizadas estas transformaciones, guardamos los resultados en: s3 y en las tablas listas para el servicio. \n### También guardamos los resultados en una carpeta csv para descargarnos el archivo, le aplicamos el modelo de predicción y realizamos el servicio de los datos mediante Tableau.",
			"metadata": {}
		},
		{
			"cell_type": "code",
			"source": "gold_path=\"s3://bucket-for-requests/data/api_database/gold_folder/\"\ndf_casted.write\\\n        .format(\"delta\")\\\n        .mode(\"overwrite\")\\\n        .save(gold_path)",
			"metadata": {},
			"execution_count": null,
			"outputs": []
		},
		{
			"cell_type": "code",
			"source": "gold_csv_path=\"s3://bucket-for-requests/data/api_database/gold_folder_csv/\"\ndf_casted.write.csv(gold_csv_path, mode=\"overwrite\", header=True)",
			"metadata": {},
			"execution_count": null,
			"outputs": []
		},
		{
			"cell_type": "code",
			"source": "job.commit()",
			"metadata": {},
			"execution_count": null,
			"outputs": []
		}
	]
}